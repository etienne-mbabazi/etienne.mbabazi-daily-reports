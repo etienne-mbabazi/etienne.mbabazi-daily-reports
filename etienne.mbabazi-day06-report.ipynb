{
 "cells": [
  {
   "cell_type": "markdown",
   "id": "6335ad0b",
   "metadata": {},
   "source": [
    "Python exercises"
   ]
  },
  {
   "cell_type": "markdown",
   "id": "7d33cf17",
   "metadata": {},
   "source": [
    "1.a)"
   ]
  },
  {
   "cell_type": "code",
   "execution_count": null,
   "id": "c2720b84",
   "metadata": {},
   "outputs": [],
   "source": [
    "n = int(input(\"Enter a natural number:\"))\n",
    "\n",
    "total_sum = sum(i + 3 for i in range(n) if i % 2 != 0)\n",
    "\n",
    "print(\"The sum is:\",total_sum)\n"
   ]
  },
  {
   "cell_type": "code",
   "execution_count": null,
   "id": "a035fd0f",
   "metadata": {},
   "outputs": [],
   "source": [
    "type(n)"
   ]
  },
  {
   "cell_type": "markdown",
   "id": "6b978840",
   "metadata": {},
   "source": [
    "b."
   ]
  },
  {
   "cell_type": "code",
   "execution_count": null,
   "id": "0d2c103c",
   "metadata": {},
   "outputs": [],
   "source": [
    "n = int(input(\"Enter a natural number:\"))\n",
    "product = 1\n",
    "for i in range(n):\n",
    "    if i % 2 == 0:\n",
    "        product= product* (i+3)\n",
    "\n",
    "\n",
    "\n",
    "print(\"the product is:\",product)"
   ]
  },
  {
   "cell_type": "markdown",
   "id": "76ace59a",
   "metadata": {},
   "source": [
    "# 2."
   ]
  },
  {
   "cell_type": "code",
   "execution_count": null,
   "id": "dc12a448",
   "metadata": {},
   "outputs": [],
   "source": [
    "day = int(input(\"enter a day:\"))\n",
    "if(day == 1):\n",
    "    print(\"monday\")\n",
    "elif(day==2):\n",
    "    print(\"tuesday\")\n",
    "elif(day==3):\n",
    "    print(\"wednesday\")\n",
    "elif(day==4):\n",
    "    print(\"thurday\")\n",
    "elif(day==5):\n",
    "    print(\"friday\")\n",
    "elif(day==6):\n",
    "    print(\"go to sleep it's a weekend\")\n",
    "elif(day==0):\n",
    "    print(\"weekend\")"
   ]
  },
  {
   "cell_type": "markdown",
   "id": "8df1bd3e",
   "metadata": {},
   "source": [
    "3."
   ]
  },
  {
   "cell_type": "code",
   "execution_count": null,
   "id": "18d6b4a4",
   "metadata": {},
   "outputs": [],
   "source": [
    "month = int(input(\"Please enter a month in range of 0 to 11:\"))\n",
    "months = [\"January\", \"February\", \"March\", \"April\", \"May\", \"June\", \"July\", \"August\", \"September\", \"October\", \"November\", \"December\"]\n",
    "m = months[month]\n",
    "if (month in {0, 2, 4, 6, 7, 9, 11}):\n",
    "    print(\"The month of\", m, \"has 31 days\")\n",
    "elif (month in {3,5,8,10}):\n",
    "    print(\"The month of\", m, \"has 30 days\")\n",
    "elif (month == 1):\n",
    "    print(\"The month of\", m, \"has 28 days\")\n",
    "else:\n",
    "    print(\"You entered a wrong number\")\n"
   ]
  },
  {
   "cell_type": "markdown",
   "id": "b5f67ec6",
   "metadata": {},
   "source": [
    "4.i)"
   ]
  },
  {
   "cell_type": "code",
   "execution_count": null,
   "id": "a75f6344",
   "metadata": {},
   "outputs": [],
   "source": [
    "name =\"etienne\"\n",
    "for i in range(3):\n",
    "    print(\"etienne\")"
   ]
  },
  {
   "cell_type": "markdown",
   "id": "1877bdfa",
   "metadata": {},
   "source": [
    "ii)"
   ]
  },
  {
   "cell_type": "code",
   "execution_count": 5,
   "id": "e664ae63",
   "metadata": {},
   "outputs": [
    {
     "name": "stdout",
     "output_type": "stream",
     "text": [
      "etienne\n",
      "etienne\n",
      "etienne\n"
     ]
    }
   ],
   "source": [
    "i=0\n",
    "name = \"etienne\"\n",
    "while i<3:\n",
    "    print(\"etienne\")\n",
    "    i=i+1"
   ]
  },
  {
   "cell_type": "markdown",
   "id": "5786c3fa",
   "metadata": {},
   "source": [
    "5."
   ]
  },
  {
   "cell_type": "code",
   "execution_count": 13,
   "id": "507c2556",
   "metadata": {},
   "outputs": [
    {
     "name": "stdout",
     "output_type": "stream",
     "text": [
      "Enter a0: 6\n",
      "Enter a1: 4\n",
      "First 15 Fibonacci terms: [6, 4, 10, 14, 24, 38, 62, 100, 162, 262, 424, 686, 1110, 1796, 2906]\n"
     ]
    }
   ],
   "source": [
    "a0 = int(input(\"Enter a0: \"))\n",
    "a1 = int(input(\"Enter a1: \"))\n",
    "fib_sequence = [a0, a1]\n",
    "for i in range(2, 15):\n",
    "    fib_sequence.append(fib_sequence[-1] + fib_sequence[-2])\n",
    "print(f\"First 15 Fibonacci terms: {fib_sequence}\")"
   ]
  },
  {
   "cell_type": "markdown",
   "id": "cf6d1783",
   "metadata": {},
   "source": [
    "6."
   ]
  },
  {
   "cell_type": "code",
   "execution_count": 26,
   "id": "b572ac33",
   "metadata": {},
   "outputs": [
    {
     "name": "stdout",
     "output_type": "stream",
     "text": [
      "Enter x0: 4\n",
      "Enter x1: 7\n",
      "First 30 terms: [4, 7, 15, 28, 59, 113, 233, 455, 926, 1828, 3692, 7330, 14741, 29360, 58903, 117531, 235474, 470330, 941587, 1881783, 3765652, 7528175, 15061043, 30115046, 60240652, 120465464, 240954688, 481873736, 963800932, 1927521674]\n"
     ]
    }
   ],
   "source": [
    "x0 = int(input(\"Enter x0: \"))\n",
    "x1 = int(input(\"Enter x1: \"))\n",
    "seq = [x0, x1]\n",
    "for n in range(28):  \n",
    "    seq.append((seq[-1] + 6 * seq[-2]) // 2)\n",
    "print(f\"First 30 terms: {seq}\")\n"
   ]
  },
  {
   "cell_type": "markdown",
   "id": "12f3dc62",
   "metadata": {},
   "source": [
    "7.a)"
   ]
  },
  {
   "cell_type": "code",
   "execution_count": 12,
   "id": "ad95e6b3",
   "metadata": {},
   "outputs": [
    {
     "name": "stdout",
     "output_type": "stream",
     "text": [
      "enter a year:2020\n",
      "This is a leap year\n"
     ]
    }
   ],
   "source": [
    "year = int(input(\"enter a year:\"))\n",
    "if((year % 4 == 0 and year % 100 !=0) or (year % 400 == 0)):\n",
    "    print(\"This is a leap year\")"
   ]
  },
  {
   "cell_type": "markdown",
   "id": "0ced24e3",
   "metadata": {},
   "source": [
    "b)"
   ]
  },
  {
   "cell_type": "code",
   "execution_count": 14,
   "id": "500ee2d4",
   "metadata": {},
   "outputs": [
    {
     "name": "stdout",
     "output_type": "stream",
     "text": [
      "Enter a year: 2000\n",
      "2000 is a leap year.\n"
     ]
    }
   ],
   "source": [
    "year = int(input(\"Enter a year: \"))\n",
    "\n",
    "is_leap = (year % 4 == 0) and ((year % 100 != 0) or (year % 400 == 0))\n",
    "\n",
    "print(f\"{year} is a leap year.\" if is_leap else f\"{year} is not a leap year.\")\n"
   ]
  },
  {
   "cell_type": "markdown",
   "id": "fb2dd038",
   "metadata": {},
   "source": [
    "8.a)"
   ]
  },
  {
   "cell_type": "code",
   "execution_count": 15,
   "id": "3ca828ed",
   "metadata": {},
   "outputs": [
    {
     "name": "stdout",
     "output_type": "stream",
     "text": [
      "Enter a natural number: 4\n",
      "Sum of squares (for loop): 30\n"
     ]
    }
   ],
   "source": [
    "#Using for loop\n",
    "n = int(input(\"Enter a natural number: \"))\n",
    "sum_of_squares = 0\n",
    "for i in range(1, n + 1):\n",
    "    sum_of_squares += i ** 2\n",
    "print(f\"Sum of squares (for loop): {sum_of_squares}\")\n"
   ]
  },
  {
   "cell_type": "code",
   "execution_count": 16,
   "id": "6bc5bcaa",
   "metadata": {},
   "outputs": [
    {
     "name": "stdout",
     "output_type": "stream",
     "text": [
      "Enter a natural number: 4\n",
      "Sum of squares (while loop): 30\n"
     ]
    }
   ],
   "source": [
    "#Using while loop\n",
    "n = int(input(\"Enter a natural number: \"))\n",
    "sum_of_squares = 0\n",
    "i = 1\n",
    "while i <= n:\n",
    "    sum_of_squares += i ** 2\n",
    "    i += 1\n",
    "print(f\"Sum of squares (while loop): {sum_of_squares}\")\n"
   ]
  },
  {
   "cell_type": "markdown",
   "id": "c4fe679c",
   "metadata": {},
   "source": [
    "b)"
   ]
  },
  {
   "cell_type": "code",
   "execution_count": 17,
   "id": "fd7e502d",
   "metadata": {},
   "outputs": [
    {
     "name": "stdout",
     "output_type": "stream",
     "text": [
      "Enter the value of M: 6\n",
      "The smallest n such that sum of squares >= 6 is: 3\n"
     ]
    }
   ],
   "source": [
    "#using for loop\n",
    "M = int(input(\"Enter the value of M: \"))\n",
    "sum_of_squares = 0\n",
    "for n in range(1, M + 1):\n",
    "    sum_of_squares += n ** 2\n",
    "    if sum_of_squares >= M:\n",
    "        print(f\"The smallest n such that sum of squares >= {M} is: {n}\")\n",
    "        break\n"
   ]
  },
  {
   "cell_type": "code",
   "execution_count": null,
   "id": "b20c3a98",
   "metadata": {},
   "outputs": [],
   "source": [
    "#using while loop\n",
    "\n",
    "M = int(input(\"Enter the value of M: \"))\n",
    "sum_of_squares = 0\n",
    "n = 1\n",
    "while sum_of_squares < M:\n",
    "    sum_of_squares += n ** 2\n",
    "    n += 1\n",
    "print(f\"The smallest n such that sum of squares >= {M} is: {n - 1}\")\n"
   ]
  },
  {
   "cell_type": "markdown",
   "id": "79b88554",
   "metadata": {},
   "source": [
    "9.a)"
   ]
  },
  {
   "cell_type": "code",
   "execution_count": 18,
   "id": "0b3904ab",
   "metadata": {},
   "outputs": [
    {
     "name": "stdout",
     "output_type": "stream",
     "text": [
      "Enter a natural number: 5\n",
      "Divisors of 5:\n",
      "1\n",
      "5\n"
     ]
    }
   ],
   "source": [
    "num = int(input(\"Enter a natural number: \"))\n",
    "print(f\"Divisors of {num}:\")\n",
    "for i in range(1, num + 1):\n",
    "    if num % i == 0:\n",
    "        print(i)\n"
   ]
  },
  {
   "cell_type": "markdown",
   "id": "b304ca35",
   "metadata": {},
   "source": [
    "b)"
   ]
  },
  {
   "cell_type": "code",
   "execution_count": 19,
   "id": "d2d72c56",
   "metadata": {},
   "outputs": [
    {
     "name": "stdout",
     "output_type": "stream",
     "text": [
      "Enter a natural number: 6\n",
      "Prime factors of 6: [2, 3]\n"
     ]
    }
   ],
   "source": [
    "def prime_factors(n):\n",
    "    i = 2\n",
    "    factors = []\n",
    "    while i * i <= n:\n",
    "        if n % i:\n",
    "            i += 1\n",
    "        else:\n",
    "            n //= i\n",
    "            factors.append(i)\n",
    "    if n > 1:\n",
    "        factors.append(n)\n",
    "    return factors\n",
    "\n",
    "num = int(input(\"Enter a natural number: \"))\n",
    "factors = prime_factors(num)\n",
    "print(f\"Prime factors of {num}: {factors}\")\n"
   ]
  },
  {
   "cell_type": "markdown",
   "id": "aab23600",
   "metadata": {},
   "source": [
    "10."
   ]
  },
  {
   "cell_type": "code",
   "execution_count": 20,
   "id": "9fa09598",
   "metadata": {},
   "outputs": [
    {
     "name": "stdout",
     "output_type": "stream",
     "text": [
      "Enter an integer between 0 and 9: 87\n",
      "Please enter a valid number between 0 and 9: 5\n",
      "Enter the value of N: 3\n",
      "Multiplication table for 5 up to 3:\n",
      "5 * 1 = 5\n",
      "5 * 2 = 10\n",
      "5 * 3 = 15\n"
     ]
    }
   ],
   "source": [
    "x = int(input(\"Enter an integer between 0 and 9: \"))\n",
    "while x < 0 or x > 9:\n",
    "    x = int(input(\"Please enter a valid number between 0 and 9: \"))\n",
    "\n",
    "N = int(input(\"Enter the value of N: \"))\n",
    "\n",
    "print(f\"Multiplication table for {x} up to {N}:\")\n",
    "for i in range(1, N + 1):\n",
    "    print(f\"{x} * {i} = {x * i}\")\n"
   ]
  },
  {
   "cell_type": "markdown",
   "id": "e8bcb088",
   "metadata": {},
   "source": [
    "11."
   ]
  },
  {
   "cell_type": "code",
   "execution_count": 21,
   "id": "321d3b1a",
   "metadata": {},
   "outputs": [
    {
     "name": "stdout",
     "output_type": "stream",
     "text": [
      "Multiples of 3, 7, or 11 between 0 and 40:\n",
      "0\n",
      "3\n",
      "6\n",
      "7\n",
      "9\n",
      "11\n",
      "12\n",
      "14\n",
      "15\n",
      "18\n",
      "21\n",
      "22\n",
      "24\n",
      "27\n",
      "28\n",
      "30\n",
      "33\n",
      "35\n",
      "36\n",
      "39\n"
     ]
    }
   ],
   "source": [
    "print(\"Multiples of 3, 7, or 11 between 0 and 40:\")\n",
    "for i in range(41):\n",
    "    if i % 3 == 0 or i % 7 == 0 or i % 11 == 0:\n",
    "        print(i)\n"
   ]
  },
  {
   "cell_type": "markdown",
   "id": "35b1f455",
   "metadata": {},
   "source": [
    "12."
   ]
  },
  {
   "cell_type": "code",
   "execution_count": 22,
   "id": "a4e75767",
   "metadata": {},
   "outputs": [
    {
     "name": "stdout",
     "output_type": "stream",
     "text": [
      "Enter a float number: 6.5\n",
      "The floor of 6.5 is 6\n"
     ]
    }
   ],
   "source": [
    "import math\n",
    "\n",
    "x = float(input(\"Enter a float number: \"))\n",
    "floor_x = math.floor(x)\n",
    "print(f\"The floor of {x} is {floor_x}\")\n"
   ]
  },
  {
   "cell_type": "markdown",
   "id": "377e5583",
   "metadata": {},
   "source": [
    "13."
   ]
  },
  {
   "cell_type": "code",
   "execution_count": 23,
   "id": "35ee9e61",
   "metadata": {},
   "outputs": [
    {
     "name": "stdout",
     "output_type": "stream",
     "text": [
      "Enter the x-coordinate: 4\n",
      "Enter the y-coordinate: 7\n",
      "1st Quadrant\n",
      "Do you want to enter another point? (yes/no): no\n"
     ]
    }
   ],
   "source": [
    "def find_quadrant(x, y):\n",
    "    if x > 0 and y > 0:\n",
    "        return \"1st Quadrant\"\n",
    "    elif x < 0 and y > 0:\n",
    "        return \"2nd Quadrant\"\n",
    "    elif x < 0 and y < 0:\n",
    "        return \"3rd Quadrant\"\n",
    "    elif x > 0 and y < 0:\n",
    "        return \"4th Quadrant\"\n",
    "    elif x == 0 and y == 0:\n",
    "        return \"Origin\"\n",
    "    elif x == 0:\n",
    "        return \"On the Y-axis\"\n",
    "    elif y == 0:\n",
    "        return \"On the X-axis\"\n",
    "\n",
    "while True:\n",
    "    x = float(input(\"Enter the x-coordinate: \"))\n",
    "    y = float(input(\"Enter the y-coordinate: \"))\n",
    "    print(find_quadrant(x, y))\n",
    "    \n",
    "    cont = input(\"Do you want to enter another point? (yes/no): \").lower()\n",
    "    if cont != 'yes':\n",
    "        break\n"
   ]
  },
  {
   "cell_type": "markdown",
   "id": "eb61f816",
   "metadata": {},
   "source": [
    "14."
   ]
  },
  {
   "cell_type": "code",
   "execution_count": 25,
   "id": "eac46020",
   "metadata": {},
   "outputs": [
    {
     "name": "stdout",
     "output_type": "stream",
     "text": [
      "Enter an integer between 0 and 9: 3\n",
      "Enter an integer between 0 and 255: 15\n",
      "Multiples of 3 up to 15:\n",
      "0\n",
      "3\n",
      "6\n",
      "9\n",
      "12\n",
      "15\n"
     ]
    }
   ],
   "source": [
    "x = int(input(\"Enter an integer between 0 and 9: \"))\n",
    "while x < 0 or x >= 10:\n",
    "    x = int(input(\"Please enter a valid number between 0 and 9: \"))\n",
    "\n",
    "max_value = int(input(\"Enter an integer between 0 and 255: \"))\n",
    "while max_value < 0 or max_value >= 256:\n",
    "    max_value = int(input(\"Please enter a valid number between 0 and 255: \"))\n",
    "\n",
    "print(f\"Multiples of {x} up to {max_value}:\")\n",
    "for i in range(0, max_value + 1):\n",
    "    if i % x == 0:\n",
    "        print(i)\n"
   ]
  },
  {
   "cell_type": "code",
   "execution_count": null,
   "id": "64a34709",
   "metadata": {},
   "outputs": [],
   "source": []
  }
 ],
 "metadata": {
  "kernelspec": {
   "display_name": "Python 3 (ipykernel)",
   "language": "python",
   "name": "python3"
  },
  "language_info": {
   "codemirror_mode": {
    "name": "ipython",
    "version": 3
   },
   "file_extension": ".py",
   "mimetype": "text/x-python",
   "name": "python",
   "nbconvert_exporter": "python",
   "pygments_lexer": "ipython3",
   "version": "3.11.2"
  }
 },
 "nbformat": 4,
 "nbformat_minor": 5
}
