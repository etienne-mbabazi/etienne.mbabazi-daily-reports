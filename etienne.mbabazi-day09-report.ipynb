{
 "cells": [
  {
   "cell_type": "markdown",
   "id": "e7d753b0",
   "metadata": {},
   "source": [
    "# Python Challenge 1"
   ]
  },
  {
   "cell_type": "markdown",
   "id": "16d19970",
   "metadata": {},
   "source": [
    "# Q1    Create a function find_max() that accepts two numeric inputs and returns the greater value. Avoid using the built-in max() function."
   ]
  },
  {
   "cell_type": "code",
   "execution_count": 1,
   "id": "1d48d7b3",
   "metadata": {},
   "outputs": [
    {
     "name": "stdout",
     "output_type": "stream",
     "text": [
      "The great value is b: 5\n"
     ]
    }
   ],
   "source": [
    "def max(a,b):\n",
    "    if(a>b):\n",
    "        print(\"The great value is a:\",a)\n",
    "    else:\n",
    "        print(\"The great value is b:\",b)\n",
    "max(3,5)               "
   ]
  },
  {
   "cell_type": "markdown",
   "id": "7357b468",
   "metadata": {},
   "source": [
    "#  Q2  Develop a function find_max_of_three() to find the maximum among three given numbers."
   ]
  },
  {
   "cell_type": "code",
   "execution_count": 3,
   "id": "8d105bc1",
   "metadata": {},
   "outputs": [
    {
     "name": "stdout",
     "output_type": "stream",
     "text": [
      "The maximum number is a: 4\n"
     ]
    }
   ],
   "source": [
    "def max(a,b,c):\n",
    "    if(a>b and a>c):\n",
    "        print(\"The maximum number is a:\",a)\n",
    "    elif(a>b and a<c):\n",
    "        print(\"The maximum number is c:\",c)\n",
    "    else:\n",
    "        print(\"The maximum number is b:\",b)\n",
    "            \n",
    "max(4,2,3)  "
   ]
  },
  {
   "cell_type": "markdown",
   "id": "2cb41663",
   "metadata": {},
   "source": [
    "#  Q3  Write a function to manually calculate the length of a given list or string without using len()."
   ]
  },
  {
   "cell_type": "code",
   "execution_count": 11,
   "id": "f08a61e8",
   "metadata": {},
   "outputs": [
    {
     "name": "stdout",
     "output_type": "stream",
     "text": [
      "The length of the string equal to: 4\n"
     ]
    }
   ],
   "source": [
    "#By using a string\n",
    "def length_function(*fruits):\n",
    "    lenght=0\n",
    "    for k in fruits:\n",
    "        lenght=lenght+1\n",
    "    print(\"The length of the string equal to:\",lenght)\n",
    "length_function(\"mango\",\"apple\",\"orange\",\"banana\")   "
   ]
  },
  {
   "cell_type": "code",
   "execution_count": 12,
   "id": "6ff39431",
   "metadata": {},
   "outputs": [
    {
     "name": "stdout",
     "output_type": "stream",
     "text": [
      "The length of the string equal to: 7\n"
     ]
    }
   ],
   "source": [
    "#By using a list\n",
    "def length_function(*numbers):\n",
    "    lenght=0\n",
    "    for k in numbers:\n",
    "        lenght=lenght+1\n",
    "    print(\"The length of the string equal to:\",lenght)\n",
    "length_function(15,2,100,4,10,6,32) "
   ]
  },
  {
   "cell_type": "markdown",
   "id": "24951ba0",
   "metadata": {},
   "source": [
    "# Q4   Implement a function that checks if a given character is a vowel (a, e, i, o, u)."
   ]
  },
  {
   "cell_type": "code",
   "execution_count": 18,
   "id": "120c9605",
   "metadata": {},
   "outputs": [
    {
     "data": {
      "text/plain": [
       "True"
      ]
     },
     "execution_count": 18,
     "metadata": {},
     "output_type": "execute_result"
    }
   ],
   "source": [
    "def vowels_function(vowel):\n",
    "    x=[\"a\",\"e\",\"i\",\"o\",\"u\"]\n",
    "    if(vowel in x):\n",
    "        return True\n",
    "vowels_function(\"a\")      "
   ]
  },
  {
   "cell_type": "markdown",
   "id": "8cd68047",
   "metadata": {},
   "source": [
    "#  Q5  Write a function encode() that converts a string into “rövarspråket” (robber’s language) by doubling consonants and placing “o” in between, e.g., “hello” -> “hohelollolo”."
   ]
  },
  {
   "cell_type": "code",
   "execution_count": 6,
   "id": "d4d279d1",
   "metadata": {},
   "outputs": [
    {
     "name": "stdout",
     "output_type": "stream",
     "text": [
      "Original string: hello\n",
      "Encoded string: hohelollolo\n"
     ]
    }
   ],
   "source": [
    "def encode(s):\n",
    "    vowels = \"aeiouAEIOU\"\n",
    "    encoded_string = \"\"\n",
    "    for char in s:\n",
    "        if char.isalpha() and char not in vowels:\n",
    "            encoded_string += char + \"o\" + char\n",
    "        else:\n",
    "            encoded_string += char\n",
    "\n",
    "    return encoded_string\n",
    "\n",
    "input_string = \"hello\"\n",
    "encoded_string = encode(input_string)\n",
    "\n",
    "print(\"Original string:\", input_string)\n",
    "print(\"Encoded string:\", encoded_string)\n"
   ]
  },
  {
   "cell_type": "markdown",
   "id": "eb7f2e9b",
   "metadata": {},
   "source": [
    "# 6  Create sum_elements() and product_elements() functions to sum and multiply all elements in a list, respectively."
   ]
  },
  {
   "cell_type": "code",
   "execution_count": 1,
   "id": "d8ea3d5b",
   "metadata": {},
   "outputs": [
    {
     "name": "stdout",
     "output_type": "stream",
     "text": [
      "Sum of elements: 10\n",
      "Product of elements: 24\n"
     ]
    }
   ],
   "source": [
    "def sum_elements(numbers):\n",
    "    total = 0\n",
    "    for num in numbers:\n",
    "        total += num  \n",
    "    return total\n",
    "\n",
    "def product_elements(numbers):\n",
    "    result = 1\n",
    "    for num in numbers:\n",
    "        result *= num  \n",
    "    return result\n",
    "\n",
    "\n",
    "numbers_list = [1, 2, 3, 4]\n",
    "\n",
    "sum_result = sum_elements(numbers_list)\n",
    "product_result = product_elements(numbers_list)\n",
    "\n",
    "print(\"Sum of elements:\", sum_result)\n",
    "print(\"Product of elements:\", product_result)\n"
   ]
  },
  {
   "cell_type": "markdown",
   "id": "3c2e8340",
   "metadata": {},
   "source": [
    "# Q7 Define a function reverse_string() to reverse the characters in a given string."
   ]
  },
  {
   "cell_type": "code",
   "execution_count": 2,
   "id": "99b37b1e",
   "metadata": {},
   "outputs": [
    {
     "name": "stdout",
     "output_type": "stream",
     "text": [
      "Original string: hello\n",
      "Reversed string: olleh\n"
     ]
    }
   ],
   "source": [
    "def reverse_string(s):\n",
    "    return s[::-1]  \n",
    "\n",
    "input_string = \"hello\"\n",
    "reversed_string = reverse_string(input_string)\n",
    "\n",
    "print(\"Original string:\", input_string)\n",
    "print(\"Reversed string:\", reversed_string)\n"
   ]
  },
  {
   "cell_type": "markdown",
   "id": "082342ca",
   "metadata": {},
   "source": [
    "# Q8 Implement check_palindrome() to verify if a string reads the same forwards and backwards, i.e. is a palindrome."
   ]
  },
  {
   "cell_type": "code",
   "execution_count": 4,
   "id": "5732b1fe",
   "metadata": {},
   "outputs": [
    {
     "name": "stdout",
     "output_type": "stream",
     "text": [
      "'racecar' is a palindrome.\n"
     ]
    }
   ],
   "source": [
    "def palindrome(s):\n",
    "    cleaned_string = s.replace(\" \", \"\").lower()\n",
    "    \n",
    "    return cleaned_string == cleaned_string[::-1]\n",
    "\n",
    "input_string = \"racecar\"\n",
    "if palindrome(input_string):\n",
    "    print(f\"'{input_string}' is a palindrome.\")\n",
    "else:\n",
    "    print(f\"'{input_string}' is not a palindrome.\")\n"
   ]
  },
  {
   "cell_type": "markdown",
   "id": "aa88ae17",
   "metadata": {},
   "source": [
    "# Q9. Develop a function `check_membership()` to determine if a value exists within a list."
   ]
  },
  {
   "cell_type": "code",
   "execution_count": 1,
   "id": "d3adb209",
   "metadata": {},
   "outputs": [
    {
     "name": "stdout",
     "output_type": "stream",
     "text": [
      "10  doesn't exist in the list\n"
     ]
    }
   ],
   "source": [
    "def check_membership(v):\n",
    "    x=[1,2,3,4,5]\n",
    "    if(v in x):\n",
    "        print(v,\"exist in the list\")\n",
    "    else:\n",
    "        print(v,\" doesn't exist in the list\")\n",
    "check_membership(10)   \n",
    "    "
   ]
  },
  {
   "cell_type": "code",
   "execution_count": 2,
   "id": "a5c4934c",
   "metadata": {},
   "outputs": [
    {
     "name": "stdout",
     "output_type": "stream",
     "text": [
      "4 exist in the list\n"
     ]
    }
   ],
   "source": [
    "check_membership(4)   "
   ]
  },
  {
   "cell_type": "markdown",
   "id": "f38c077a",
   "metadata": {},
   "source": [
    "# Q10. Write `check_overlap()` to identify if two lists share any elements."
   ]
  },
  {
   "cell_type": "code",
   "execution_count": 3,
   "id": "52859529",
   "metadata": {},
   "outputs": [
    {
     "name": "stdout",
     "output_type": "stream",
     "text": [
      "This two lists share elements [4]\n",
      "This two lists share elements [4, 5]\n"
     ]
    }
   ],
   "source": [
    "def check_overlap(list1,list2):\n",
    "    x=[]\n",
    "    for i in list1:\n",
    "        for j in list2:\n",
    "            if i==j:\n",
    "                x.append(i)\n",
    "                print(\"This two lists share elements\",x)\n",
    "check_overlap([1,2,3,4,5,6,7],[8,9,10,4,5,70,18])"
   ]
  },
  {
   "cell_type": "markdown",
   "id": "5e8537eb",
   "metadata": {},
   "source": [
    "# Q11. Implement `repeat_char()` that generates a string with a specified character repeated `n` times."
   ]
  },
  {
   "cell_type": "code",
   "execution_count": 4,
   "id": "31099093",
   "metadata": {},
   "outputs": [
    {
     "name": "stdout",
     "output_type": "stream",
     "text": [
      "string: GGGGGGGGGGGGGGGGGGGG\n"
     ]
    }
   ],
   "source": [
    "def repeat_char(character,n):\n",
    "    string=character*n\n",
    "    print(\"string:\",string)\n",
    "    \n",
    "repeat_char(\"G\",20)    "
   ]
  },
  {
   "cell_type": "markdown",
   "id": "513d59ae",
   "metadata": {},
   "source": [
    "# Q12. Create a function `print_histogram()` that takes a list of integers and prints a corresponding histogram."
   ]
  }
 ],
 "metadata": {
  "kernelspec": {
   "display_name": "Python 3 (ipykernel)",
   "language": "python",
   "name": "python3"
  },
  "language_info": {
   "codemirror_mode": {
    "name": "ipython",
    "version": 3
   },
   "file_extension": ".py",
   "mimetype": "text/x-python",
   "name": "python",
   "nbconvert_exporter": "python",
   "pygments_lexer": "ipython3",
   "version": "3.11.2"
  }
 },
 "nbformat": 4,
 "nbformat_minor": 5
}
